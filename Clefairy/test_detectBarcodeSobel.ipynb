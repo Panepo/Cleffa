{
 "cells": [
  {
   "cell_type": "code",
   "execution_count": 13,
   "metadata": {
    "collapsed": true
   },
   "outputs": [],
   "source": [
    "%matplotlib inline\n",
    "import cv2\n",
    "import numpy as np\n",
    "from matplotlib import pyplot as plt\n",
    "import imutils\n",
    "from imutils import perspective\n",
    "import math\n",
    "import time"
   ]
  },
  {
   "cell_type": "code",
   "execution_count": 14,
   "metadata": {
    "collapsed": false
   },
   "outputs": [],
   "source": [
    "from detectBarcodeSobel import detectBarcodeSobel\n",
    "\n",
    "resW = 1920\n",
    "resH = 1080\n",
    "resOutH = 512\n",
    "\n",
    "cap = cv2.VideoCapture(1)\n",
    "cap.set(cv2.CAP_PROP_FRAME_WIDTH, resW)\n",
    "cap.set(cv2.CAP_PROP_FRAME_HEIGHT, resH)\n",
    "\n",
    "font = cv2.FONT_HERSHEY_TRIPLEX\n",
    "textString = ''\n",
    "colorFPS = (255,255,0)"
   ]
  },
  {
   "cell_type": "code",
   "execution_count": 15,
   "metadata": {
    "collapsed": false
   },
   "outputs": [],
   "source": [
    "app = detectBarcodeSobel()\n",
    "\n",
    "while(True):\n",
    "    tick1 = cv2.getTickCount()\n",
    "    (grabbed, img) = cap.read()\n",
    "    \n",
    "    if not grabbed:\n",
    "        break\n",
    "    \n",
    "    app.setInput(img)\n",
    "    statusOut = app.genOutput()\n",
    "    statusPaint = app.genPaint()\n",
    "    \n",
    "    if statusOut is True and statusPaint is True:\n",
    "        output = app.img.copy()\n",
    "        tick2 = cv2.getTickCount()\n",
    "        tick = math.floor( ((tick2 - tick1) * 1000) / cv2.getTickFrequency() )\n",
    "        output = cv2.copyMakeBorder(output, 0, 80, 0, 0, cv2.BORDER_CONSTANT, value=(0, 0, 0))\n",
    "        textString = str(tick) + \" ms\"\n",
    "        cv2.putText(output, textString, (10, resH+30), font, 1, colorFPS, 2, cv2.LINE_AA)\n",
    "        output = imutils.resize(output, height = resOutH)\n",
    "        cv2.imshow('output', output)\n",
    "    \n",
    "    getKey = cv2.waitKey(10) & 0xFF\n",
    "    if getKey is ord('q'):\n",
    "        break"
   ]
  },
  {
   "cell_type": "code",
   "execution_count": 16,
   "metadata": {
    "collapsed": true
   },
   "outputs": [],
   "source": [
    "cap.release()\n",
    "cv2.destroyAllWindows()"
   ]
  }
 ],
 "metadata": {
  "kernelspec": {
   "display_name": "Python 3",
   "language": "python",
   "name": "python3"
  },
  "language_info": {
   "codemirror_mode": {
    "name": "ipython",
    "version": 3
   },
   "file_extension": ".py",
   "mimetype": "text/x-python",
   "name": "python",
   "nbconvert_exporter": "python",
   "pygments_lexer": "ipython3",
   "version": "3.6.0"
  }
 },
 "nbformat": 4,
 "nbformat_minor": 2
}
