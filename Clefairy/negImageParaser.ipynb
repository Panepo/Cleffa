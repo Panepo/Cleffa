{
 "cells": [
  {
   "cell_type": "code",
   "execution_count": 49,
   "metadata": {
    "collapsed": true
   },
   "outputs": [],
   "source": [
    "%matplotlib inline\n",
    "import cv2\n",
    "import numpy as np\n",
    "from matplotlib import pyplot as plt\n",
    "import imutils\n",
    "from imutils import perspective\n",
    "import math\n",
    "import time\n",
    "import os"
   ]
  },
  {
   "cell_type": "code",
   "execution_count": 50,
   "metadata": {
    "collapsed": true
   },
   "outputs": [],
   "source": [
    "folderDatas = []\n",
    "folderDatas.append(\"../../../Data/Images/bakery/\")\n",
    "folderDatas.append(\"../../../Data/Images/bookstore/\")\n",
    "folderDatas.append(\"../../../Data/Images/clothingstore/\")\n",
    "folderDatas.append(\"../../../Data/Images/deli/\")\n",
    "folderDatas.append(\"../../../Data/Images/grocerystore/\")\n",
    "folderDatas.append(\"../../../Data/Images/pantry/\")\n",
    "folderDatas.append(\"../../../Data/Images/toystore/\")\n",
    "folderDatas.append(\"../../../Data/Images/videostore/\")\n",
    "folderDatas.append(\"../../../Data/Images/warehouse/\")\n",
    "\n",
    "\n",
    "folderTrain = \"../imageTrain/neg/\"\n",
    "\n",
    "pic_num = 1\n",
    "\n",
    "tick1 = cv2.getTickCount()"
   ]
  },
  {
   "cell_type": "code",
   "execution_count": 51,
   "metadata": {
    "collapsed": false
   },
   "outputs": [],
   "source": [
    "for folderData in folderDatas:\n",
    "    datas = [i[2] for i in os.walk(folderData)]\n",
    "\n",
    "    for data in datas:\n",
    "        for fileName in data:\n",
    "            img = cv2.imread(folderData + str(fileName), cv2.IMREAD_GRAYSCALE)\n",
    "            imgResize = imutils.resize(img, height = 128)\n",
    "            saveFileName = folderTrain + \"img\" + str(pic_num) + '.jpg'\n",
    "            cv2.imwrite(saveFileName, imgResize)\n",
    "            pic_num += 1\n",
    "            #print(folderData + fileName)\n"
   ]
  },
  {
   "cell_type": "code",
   "execution_count": 52,
   "metadata": {
    "collapsed": false
   },
   "outputs": [
    {
     "name": "stdout",
     "output_type": "stream",
     "text": [
      "total pics: 2709\n",
      "64762 ms\n"
     ]
    }
   ],
   "source": [
    "picString = \"total pics: \" + str(pic_num)\n",
    "print(picString)\n",
    "tick2 = cv2.getTickCount()\n",
    "tick = math.floor( ((tick2 - tick1) * 1000) / cv2.getTickFrequency() )\n",
    "textString = str(tick) + \" ms\"\n",
    "print(textString)"
   ]
  }
 ],
 "metadata": {
  "kernelspec": {
   "display_name": "Python 3",
   "language": "python",
   "name": "python3"
  },
  "language_info": {
   "codemirror_mode": {
    "name": "ipython",
    "version": 3
   },
   "file_extension": ".py",
   "mimetype": "text/x-python",
   "name": "python",
   "nbconvert_exporter": "python",
   "pygments_lexer": "ipython3",
   "version": "3.6.0"
  }
 },
 "nbformat": 4,
 "nbformat_minor": 2
}
