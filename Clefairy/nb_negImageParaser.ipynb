{
 "cells": [
  {
   "cell_type": "code",
   "execution_count": 101,
   "metadata": {
    "collapsed": true
   },
   "outputs": [],
   "source": [
    "%matplotlib inline\n",
    "import cv2\n",
    "import numpy as np\n",
    "from matplotlib import pyplot as plt\n",
    "import imutils\n",
    "from imutils import perspective\n",
    "import math\n",
    "import time\n",
    "import os"
   ]
  },
  {
   "cell_type": "code",
   "execution_count": 102,
   "metadata": {
    "collapsed": true
   },
   "outputs": [],
   "source": [
    "folderDatas = []\n",
    "folderDatas.append(\"../../../Data/Images/airport_inside/\")\n",
    "folderDatas.append(\"../../../Data/Images/auditorium/\")\n",
    "folderDatas.append(\"../../../Data/Images/bakery/\")\n",
    "folderDatas.append(\"../../../Data/Images/bookstore/\")\n",
    "folderDatas.append(\"../../../Data/Images/buffet/\")\n",
    "folderDatas.append(\"../../../Data/Images/classroom/\")\n",
    "folderDatas.append(\"../../../Data/Images/clothingstore/\")\n",
    "folderDatas.append(\"../../../Data/Images/deli/\")\n",
    "folderDatas.append(\"../../../Data/Images/dentaloffice/\")\n",
    "folderDatas.append(\"../../../Data/Images/fastfood_restaurant/\")\n",
    "folderDatas.append(\"../../../Data/Images/florist/\")\n",
    "folderDatas.append(\"../../../Data/Images/garage/\")\n",
    "folderDatas.append(\"../../../Data/Images/grocerystore/\")\n",
    "folderDatas.append(\"../../../Data/Images/hairsalon/\")\n",
    "folderDatas.append(\"../../../Data/Images/hospitalroom/\")\n",
    "folderDatas.append(\"../../../Data/Images/inside_bus/\")\n",
    "folderDatas.append(\"../../../Data/Images/inside_subway/\")\n",
    "folderDatas.append(\"../../../Data/Images/kindergarden/\")\n",
    "folderDatas.append(\"../../../Data/Images/laboratorywet/\")\n",
    "#folderDatas.append(\"../../../Data/Images/laundromat/\")\n",
    "folderDatas.append(\"../../../Data/Images/library/\")\n",
    "folderDatas.append(\"../../../Data/Images/lobby/\")\n",
    "folderDatas.append(\"../../../Data/Images/locker_room/\")\n",
    "folderDatas.append(\"../../../Data/Images/mall/\")\n",
    "folderDatas.append(\"../../../Data/Images/museum/\")\n",
    "folderDatas.append(\"../../../Data/Images/nursery/\")\n",
    "folderDatas.append(\"../../../Data/Images/office/\")\n",
    "folderDatas.append(\"../../../Data/Images/operation_room/\")\n",
    "folderDatas.append(\"../../../Data/Images/pantry/\")\n",
    "folderDatas.append(\"../../../Data/Images/toystore/\")\n",
    "folderDatas.append(\"../../../Data/Images/videostore/\")\n",
    "folderDatas.append(\"../../../Data/Images/warehouse/\")\n",
    "\n",
    "folderTrain = \"../imageTrain/neg/\"\n",
    "\n",
    "picNum = 1\n",
    "picExtend = 0\n",
    "tick1 = cv2.getTickCount()"
   ]
  },
  {
   "cell_type": "code",
   "execution_count": 103,
   "metadata": {
    "collapsed": false
   },
   "outputs": [],
   "source": [
    "for folderData in folderDatas:\n",
    "    datas = [i[2] for i in os.walk(folderData)]\n",
    "\n",
    "    for data in datas:\n",
    "        for fileName in data:\n",
    "            \n",
    "            if picWrite:\n",
    "                img = cv2.imread(folderData + str(fileName), cv2.IMREAD_GRAYSCALE)\n",
    "\n",
    "                if picExtend:\n",
    "                    (w, h) = img.shape\n",
    "                    if w != h:\n",
    "                        if w > h:\n",
    "                            img = cv2.copyMakeBorder(img, 0, 0, 0, (w-h), cv2.BORDER_CONSTANT, value=(0, 0, 0))\n",
    "                        else:\n",
    "                            img = cv2.copyMakeBorder(img, 0, (h-w), 0, 0, cv2.BORDER_CONSTANT, value=(0, 0, 0))\n",
    "\n",
    "                (w, h) = img.shape\n",
    "                if (w >= 240) and (h >= 240):\n",
    "                    imgResize = cv2.resize(img, (240, 240))\n",
    "                    saveFileName = folderTrain + \"img\" + str(picNum) + '.jpg'\n",
    "                    cv2.imwrite(saveFileName, imgResize)\n",
    "                    picNum += 1\n",
    "            \n",
    "            #print(folderData + fileName)\n"
   ]
  },
  {
   "cell_type": "code",
   "execution_count": 104,
   "metadata": {
    "collapsed": false
   },
   "outputs": [
    {
     "name": "stdout",
     "output_type": "stream",
     "text": [
      "total pics: 6016\n",
      "165289 ms\n"
     ]
    }
   ],
   "source": [
    "picString = \"total pics: \" + str(picNum)\n",
    "print(picString)\n",
    "tick2 = cv2.getTickCount()\n",
    "tick = math.floor( ((tick2 - tick1) * 1000) / cv2.getTickFrequency() )\n",
    "textString = str(tick) + \" ms\"\n",
    "print(textString)"
   ]
  }
 ],
 "metadata": {
  "kernelspec": {
   "display_name": "Python 3",
   "language": "python",
   "name": "python3"
  },
  "language_info": {
   "codemirror_mode": {
    "name": "ipython",
    "version": 3
   },
   "file_extension": ".py",
   "mimetype": "text/x-python",
   "name": "python",
   "nbconvert_exporter": "python",
   "pygments_lexer": "ipython3",
   "version": "3.6.0"
  }
 },
 "nbformat": 4,
 "nbformat_minor": 2
}
