{
 "cells": [
  {
   "cell_type": "code",
   "execution_count": 128,
   "metadata": {
    "collapsed": true
   },
   "outputs": [],
   "source": [
    "%matplotlib inline\n",
    "import cv2\n",
    "import numpy as np\n",
    "from matplotlib import pyplot as plt\n",
    "\n",
    "import imutils\n",
    "\n",
    "import math\n",
    "import time"
   ]
  },
  {
   "cell_type": "code",
   "execution_count": 129,
   "metadata": {
    "collapsed": true
   },
   "outputs": [],
   "source": [
    "filePath = '../imageTemp/testContour3.png'\n",
    "#filePath = '../imageTemp/contour03.jpg'\n",
    "\n"
   ]
  },
  {
   "cell_type": "code",
   "execution_count": 130,
   "metadata": {
    "collapsed": false
   },
   "outputs": [],
   "source": [
    "img = cv2.imread(filePath)\n",
    "cv2.imshow('original', img)\n",
    "\n",
    "imgGray = cv2.cvtColor(img, cv2.COLOR_BGR2GRAY)\n",
    "#(_, imgGrayTh) = cv2.threshold(imgGray, 0, 255, cv2.THRESH_BINARY+cv2.THRESH_OTSU)\n",
    "\n",
    "#imgErode = cv2.erode(imgGrayTh, None, iterations = 1)\n",
    "#cv2.imshow('erode', imgErode)\n",
    "\n",
    "imgVec = cv2.reduce(imgGray, 0, cv2.REDUCE_AVG, dtype=cv2.CV_16U)\n",
    "#print(imgVec)\n",
    "\n",
    "imgOut = img.copy()\n",
    "#imgOut = cv2.copyMakeBorder(imgOut, 0, 100, 0, 0, cv2.BORDER_CONSTANT, value=(0, 0, 0))\n",
    "\n",
    "\n",
    "(h, w, c) = imgOut.shape\n",
    "i = 0\n",
    "for vec2 in imgVec:\n",
    "    for vec in vec2:\n",
    "        if vec > 150:\n",
    "            img = cv2.line(imgOut, (i,int(h/2)), (i,h), (255,255,255), 1)\n",
    "        else:\n",
    "            img = cv2.line(imgOut, (i,int(h/2)), (i,h), (0,0,0), 1)\n",
    "            \n",
    "        i = i + 1\n",
    "        \n",
    "cv2.imshow('output', imgOut)"
   ]
  },
  {
   "cell_type": "code",
   "execution_count": 131,
   "metadata": {
    "collapsed": false
   },
   "outputs": [],
   "source": [
    "while(True):\n",
    "    getKey = cv2.waitKey(10) & 0xFF\n",
    "    if getKey is ord('q'):\n",
    "        cv2.destroyAllWindows()\n",
    "        break\n",
    "    if getKey is ord('s'):\n",
    "        fileName = \"../imageCapture/out\" + time.strftime(\"%Y-%m-%d_%H%M%S-\", time.localtime()) + '.png'\n",
    "        cv2.imwrite(fileName, imgOut, [int(cv2.IMWRITE_PNG_COMPRESSION), 0])\n",
    "        #fileName = \"../imageCapture/conv\" + time.strftime(\"%Y-%m-%d_%H%M%S-\", time.localtime()) + '.png'\n",
    "        #cv2.imwrite(fileName, imgCon, [int(cv2.IMWRITE_PNG_COMPRESSION), 0])\n",
    "        #fileName = \"../imageCapture/clahe\" + time.strftime(\"%Y-%m-%d_%H%M%S-\", time.localtime()) + '.png'\n",
    "        #cv2.imwrite(fileName, imgClahe, [int(cv2.IMWRITE_PNG_COMPRESSION), 0])"
   ]
  }
 ],
 "metadata": {
  "kernelspec": {
   "display_name": "Python 3",
   "language": "python",
   "name": "python3"
  },
  "language_info": {
   "codemirror_mode": {
    "name": "ipython",
    "version": 3
   },
   "file_extension": ".py",
   "mimetype": "text/x-python",
   "name": "python",
   "nbconvert_exporter": "python",
   "pygments_lexer": "ipython3",
   "version": "3.6.0"
  }
 },
 "nbformat": 4,
 "nbformat_minor": 2
}
