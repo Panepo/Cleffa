{
 "cells": [
  {
   "cell_type": "code",
   "execution_count": 8,
   "metadata": {
    "collapsed": true
   },
   "outputs": [],
   "source": [
    "%matplotlib inline\n",
    "import cv2\n",
    "import numpy as np\n",
    "from matplotlib import pyplot as plt\n",
    "import imutils\n",
    "from imutils import perspective\n",
    "import math\n",
    "import time\n",
    "import sys\n",
    "from imutils.video import VideoStream"
   ]
  },
  {
   "cell_type": "code",
   "execution_count": 9,
   "metadata": {
    "collapsed": true
   },
   "outputs": [],
   "source": [
    "resW = 1920\n",
    "resH = 1080\n",
    "resOutH = 512\n",
    "\n",
    "cap = cv2.VideoCapture(2)\n",
    "cap.set(cv2.CAP_PROP_FRAME_WIDTH, resW)\n",
    "cap.set(cv2.CAP_PROP_FRAME_HEIGHT, resH)\n",
    "\n",
    "font = cv2.FONT_HERSHEY_TRIPLEX\n",
    "textString = ''\n",
    "colorFPS = (255,255,0)"
   ]
  },
  {
   "cell_type": "code",
   "execution_count": 10,
   "metadata": {
    "collapsed": false
   },
   "outputs": [],
   "source": [
    "while(True):\n",
    "    (grabbed, img) = cap.read()\n",
    "    if not grabbed:\n",
    "        print(\"not grabbed\")\n",
    "        break\n",
    "\n",
    "    imgOrig = img.copy();\n",
    "    imgOut = img.copy();\n",
    "    \n",
    "    imgGray = cv2.cvtColor(img, cv2.COLOR_BGR2GRAY)\n",
    "    corners = cv2.goodFeaturesToTrack(imgGray, 300, 0.01, 10)\n",
    "    corners = np.int0(corners)\n",
    "\n",
    "    imgOrig = imutils.resize(imgOrig, height = resOutH)\n",
    "    imgOut = imutils.resize(imgOut, height = resOutH)\n",
    "    cv2.imshow(\"Original\", imgOrig)\n",
    "    cv2.imshow(\"Stabilizer\", imgOut)\n",
    "    \n",
    "    getKey = cv2.waitKey(20) & 0xFF\n",
    "    if getKey == ord('q'):\n",
    "        break\n",
    "    elif getKey == ord('c'):\n",
    "        bbox = cv2.selectROI(img, False)\n",
    "        ok = tracker.init(img, bbox)\n",
    "        traceStart = 1\n",
    "        cv2.destroyAllWindows()"
   ]
  },
  {
   "cell_type": "code",
   "execution_count": 11,
   "metadata": {
    "collapsed": true
   },
   "outputs": [],
   "source": [
    "cap.release()\n",
    "cv2.destroyAllWindows()"
   ]
  }
 ],
 "metadata": {
  "kernelspec": {
   "display_name": "Python 3",
   "language": "python",
   "name": "python3"
  },
  "language_info": {
   "codemirror_mode": {
    "name": "ipython",
    "version": 3
   },
   "file_extension": ".py",
   "mimetype": "text/x-python",
   "name": "python",
   "nbconvert_exporter": "python",
   "pygments_lexer": "ipython3",
   "version": "3.6.0"
  }
 },
 "nbformat": 4,
 "nbformat_minor": 2
}
