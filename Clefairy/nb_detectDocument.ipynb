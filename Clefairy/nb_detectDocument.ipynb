{
 "cells": [
  {
   "cell_type": "code",
   "execution_count": 5,
   "metadata": {
    "collapsed": true
   },
   "outputs": [],
   "source": [
    "%matplotlib inline\n",
    "import cv2\n",
    "import numpy as np\n",
    "from matplotlib import pyplot as plt\n",
    "import imutils\n",
    "from imutils import perspective\n",
    "import math\n",
    "import time"
   ]
  },
  {
   "cell_type": "code",
   "execution_count": 6,
   "metadata": {
    "collapsed": true
   },
   "outputs": [],
   "source": [
    "resW = 1920\n",
    "resH = 1080\n",
    "\n",
    "cap = cv2.VideoCapture(0)\n",
    "cap.set(cv2.CAP_PROP_FRAME_WIDTH, resW)\n",
    "cap.set(cv2.CAP_PROP_FRAME_HEIGHT, resH)\n",
    "#cap.set(cv2.CAP_PROP_FPS, 20)\n",
    "\n",
    "font = cv2.FONT_HERSHEY_TRIPLEX\n",
    "clahe = cv2.createCLAHE(clipLimit=2.0, tileGridSize=(8,8))\n",
    "\n",
    "sizeOut = 512\n",
    "colorFPS = (255, 255, 0)\n",
    "colorRect = (0, 255, 0)\n",
    "\n",
    "#flags\n",
    "detected = 0\n",
    "capture = 0\n",
    "save = 0\n",
    "\n",
    "#parameters\n",
    "paraGaussian = 5\n",
    "paraCannyMin = 75\n",
    "paraCannyMax = 200\n",
    "\n",
    "textStringA = \"\"\n",
    "textStringB = \"\""
   ]
  },
  {
   "cell_type": "code",
   "execution_count": 7,
   "metadata": {
    "collapsed": false
   },
   "outputs": [],
   "source": [
    "while(True):\n",
    "    tick1 = cv2.getTickCount()\n",
    "    (grabbed, img) = cap.read()\n",
    "    \n",
    "    if not grabbed:\n",
    "        break\n",
    "    \n",
    "    imgOrig = img.copy()\n",
    "    detected = 0\n",
    "    \n",
    "    imgGray = cv2.cvtColor(img, cv2.COLOR_BGR2GRAY)\n",
    "    #imgCla = clahe.apply(imgGray)\n",
    "    imgGray = cv2.GaussianBlur(imgGray, (paraGaussian, paraGaussian), 0)\n",
    "    imgEdged = cv2.Canny(imgGray, paraCannyMin, paraCannyMax)\n",
    "    (_, contours, _) = cv2.findContours(imgEdged, cv2.RETR_LIST, cv2.CHAIN_APPROX_SIMPLE)\n",
    "    contours = sorted(contours, key = cv2.contourArea, reverse = True)[:5]\n",
    "\n",
    "    for c in contours:\n",
    "        peri = cv2.arcLength(c, True)\n",
    "        approx = cv2.approxPolyDP(c, 0.02 * peri, True)\n",
    "\n",
    "        if len(approx) == 4:\n",
    "            screenCnt = approx\n",
    "            detected = 1\n",
    "            break\n",
    "\n",
    "    if detected == 1:\n",
    "        imgCont = cv2.drawContours(img, [screenCnt], -1, colorRect, 2)\n",
    "        imgWarp = perspective.four_point_transform(imgOrig, screenCnt.reshape(4, 2))\n",
    "            \n",
    "        tick2 = cv2.getTickCount()\n",
    "        tick = math.floor(((tick2 - tick1) * 1000) / cv2.getTickFrequency())\n",
    "        imgCont = cv2.copyMakeBorder(imgCont, 0, 80, 0, 0, cv2.BORDER_CONSTANT, value=(0, 0, 0))\n",
    "        textStringA = str(tick) + \" ms \" + str(paraCannyMin) + \" \" + str(paraCannyMax)\n",
    "        cv2.putText(imgCont, textStringA, (10, resH+30), font, 1, colorFPS, 2, cv2.LINE_AA)\n",
    "        cv2.putText(imgCont, textStringB, (10, resH+70), font, 1, colorFPS, 2, cv2.LINE_AA)\n",
    "        \n",
    "        imgEdged = imutils.resize(imgEdged, height = sizeOut)\n",
    "        cv2.imshow(\"Edged\", imgEdged)\n",
    "        imgCont = imutils.resize(imgCont, height = sizeOut)\n",
    "        cv2.imshow(\"Cont\", imgCont)\n",
    "        imgWarp = imutils.resize(imgWarp, height = sizeOut)\n",
    "        cv2.imshow(\"Warp\", imgWarp)\n",
    "        if capture == 1:\n",
    "            save = 1\n",
    "            imgWarpCap = imgWarp.copy()\n",
    "            cv2.imshow(\"imgWarpCap\", imgWarpCap)\n",
    "        \n",
    "    \n",
    "    capture = 0\n",
    "    getKey = cv2.waitKey(20) & 0xFF\n",
    "    if getKey == ord('c'):\n",
    "        capture = 1\n",
    "    elif getKey == ord('z'):\n",
    "        paraCannyMin += 25\n",
    "        paraCannyMax += 25\n",
    "    elif getKey == ord('x'):\n",
    "        paraCannyMin -= 25\n",
    "        paraCannyMax -= 25\n",
    "    elif getKey == ord('v'):\n",
    "        if save == 1:\n",
    "            fileName = \"../imgCapture/\" + time.strftime(\"%Y-%m-%d_%H%M%S\", time.localtime()) + '.png'\n",
    "            cv2.imwrite(fileName, imgWarpCap, [int(cv2.IMWRITE_PNG_COMPRESSION), 9])\n",
    "            textStringB = \"file saved: \" + time.strftime(\"%Y-%m-%d_%H%M%S\", time.localtime()) + '.png'\n",
    "            save = 0\n",
    "    elif getKey == ord('q'):\n",
    "        break"
   ]
  },
  {
   "cell_type": "code",
   "execution_count": 8,
   "metadata": {
    "collapsed": true
   },
   "outputs": [],
   "source": [
    "cap.release()\n",
    "cv2.destroyAllWindows()"
   ]
  }
 ],
 "metadata": {
  "kernelspec": {
   "display_name": "Python 3",
   "language": "python",
   "name": "python3"
  },
  "language_info": {
   "codemirror_mode": {
    "name": "ipython",
    "version": 3
   },
   "file_extension": ".py",
   "mimetype": "text/x-python",
   "name": "python",
   "nbconvert_exporter": "python",
   "pygments_lexer": "ipython3",
   "version": "3.6.0"
  }
 },
 "nbformat": 4,
 "nbformat_minor": 2
}
