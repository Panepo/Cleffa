{
 "cells": [
  {
   "cell_type": "code",
   "execution_count": 60,
   "metadata": {
    "collapsed": true
   },
   "outputs": [],
   "source": [
    "%matplotlib inline\n",
    "import cv2\n",
    "import numpy as np\n",
    "from matplotlib import pyplot as plt\n",
    "\n",
    "from imutils.video import VideoStream\n",
    "from imutils.video import FPS\n",
    "import imutils\n",
    "\n",
    "import math\n",
    "import time"
   ]
  },
  {
   "cell_type": "code",
   "execution_count": 61,
   "metadata": {
    "collapsed": false
   },
   "outputs": [],
   "source": [
    "resW = 1920\n",
    "resH = 1080\n",
    "resOutH = 512\n",
    "\n",
    "cap = cv2.VideoCapture(2)\n",
    "cap.set(cv2.CAP_PROP_FRAME_WIDTH, resW)\n",
    "cap.set(cv2.CAP_PROP_FRAME_HEIGHT, resH)\n",
    "\n",
    "cascade = cv2.CascadeClassifier('./haarcascades/barcode_0.2_2000_10.xml')\n",
    "scale = 1.3\n",
    "neighbors = 25\n",
    "objSize = (25, 25)\n",
    "\n",
    "font = cv2.FONT_HERSHEY_TRIPLEX\n",
    "textString = ''\n",
    "colorFPS = (255,255,0)\n",
    "colorRect = (255, 255, 0)\n",
    "\n",
    "capture = 0\n",
    "boxExtend = 25"
   ]
  },
  {
   "cell_type": "code",
   "execution_count": 62,
   "metadata": {
    "collapsed": false
   },
   "outputs": [],
   "source": [
    "while(True):\n",
    "    tick1 = cv2.getTickCount()\n",
    "    (grabbed, img) = cap.read()\n",
    "    if not grabbed:\n",
    "        print(\"not grabbed\")\n",
    "        break\n",
    "    gray = cv2.cvtColor(img, cv2.COLOR_BGR2GRAY)\n",
    "    \n",
    "    xmin = 9999\n",
    "    xmax = 0\n",
    "    ymin = 9999\n",
    "    ymax = 0\n",
    "    \n",
    "    grayHaar = gray.copy();\n",
    "    grayHaar = imutils.resize(grayHaar, height = int(resH/2))\n",
    "    codes = cascade.detectMultiScale(grayHaar, scaleFactor=scale, minNeighbors=neighbors, minSize=objSize)\n",
    "    \n",
    "    #print(codes)\n",
    "    for (x,y,w,h) in codes:\n",
    "        x = x * 2;\n",
    "        y = y * 2;\n",
    "        w = w * 2;\n",
    "        h = h * 2;\n",
    "        \n",
    "        if x < xmin:\n",
    "            xmin = x\n",
    "        if (x+w) > xmax:\n",
    "            xmax = x+w\n",
    "        if y < ymin:\n",
    "            ymin = y\n",
    "        if (y+h) > ymax:\n",
    "            ymax = y+h\n",
    "    \n",
    "    if boxExtend != 0:\n",
    "        img = cv2.rectangle(img, (xmin-boxExtend, ymin-boxExtend), (xmax+boxExtend, ymax+boxExtend), colorRect, 3)\n",
    "    else:\n",
    "        img = cv2.rectangle(img, (xmin, ymin), (xmax, ymax), colorRect, 3)\n",
    "\n",
    "\n",
    "    imgOut = img.copy()\n",
    "    tick2 = cv2.getTickCount()\n",
    "    tick = math.floor( ((tick2 - tick1) * 1000) / cv2.getTickFrequency())\n",
    "    imgOut = cv2.copyMakeBorder(imgOut, 0, 80, 0, 0, cv2.BORDER_CONSTANT, value=(0, 0, 0))\n",
    "    textString = str(tick) + \" ms\"\n",
    "    cv2.putText(imgOut, textString, (10, resH+30), font, 1, colorFPS, 2, cv2.LINE_AA)\n",
    "    imgOut = imutils.resize(imgOut, height = resOutH)\n",
    "    cv2.imshow('output',imgOut)\n",
    "    \n",
    "    if capture:\n",
    "        cv2.imshow('capture', img)\n",
    "        fileName = \"../imageCapture/\" + time.strftime(\"%Y-%m-%d_%H%M%S-\", time.localtime()) + '.png'\n",
    "        cv2.imwrite(fileName, img, [int(cv2.IMWRITE_PNG_COMPRESSION), 0])\n",
    "        capture = 0\n",
    "    \n",
    "    getKey = cv2.waitKey(10) & 0xFF\n",
    "    if getKey is ord('c'):\n",
    "        capture = 1\n",
    "    elif getKey is ord('q'):\n",
    "        break"
   ]
  },
  {
   "cell_type": "code",
   "execution_count": 63,
   "metadata": {
    "collapsed": true
   },
   "outputs": [],
   "source": [
    "cap.release()\n",
    "cv2.destroyAllWindows()"
   ]
  }
 ],
 "metadata": {
  "kernelspec": {
   "display_name": "Python 3",
   "language": "python",
   "name": "python3"
  },
  "language_info": {
   "codemirror_mode": {
    "name": "ipython",
    "version": 3
   },
   "file_extension": ".py",
   "mimetype": "text/x-python",
   "name": "python",
   "nbconvert_exporter": "python",
   "pygments_lexer": "ipython3",
   "version": "3.6.0"
  }
 },
 "nbformat": 4,
 "nbformat_minor": 2
}
