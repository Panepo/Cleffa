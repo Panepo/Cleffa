{
 "cells": [
  {
   "cell_type": "code",
   "execution_count": 49,
   "metadata": {
    "collapsed": false
   },
   "outputs": [],
   "source": [
    "%matplotlib inline\n",
    "import cv2\n",
    "import numpy as np\n",
    "from matplotlib import pyplot as plt\n",
    "import imutils\n",
    "from imutils import perspective\n",
    "\n",
    "import barcode\n",
    "from barcode.writer import ImageWriter\n",
    "\n",
    "import time\n",
    "import os\n",
    "import math"
   ]
  },
  {
   "cell_type": "markdown",
   "metadata": {},
   "source": [
    "barcode.PROVIDED_BARCODES\n",
    "[u'code39', u'ean', u'ean13', u'ean8', u'gs1', u'gtin', u'isbn', u'isbn10',\n",
    " u'isbn13', u'issn', u'jan', u'pzn', u'upc', u'upca']"
   ]
  },
  {
   "cell_type": "code",
   "execution_count": 50,
   "metadata": {
    "collapsed": true
   },
   "outputs": [],
   "source": [
    "codeType = 'ean13'\n",
    "\n",
    "folderTrain = \"../imageTrain/pos/\"\n",
    "picGen = 1000\n",
    "picNum = 1\n",
    "codeStart = 1234567890123\n",
    "fileName = '../imageGenerate/' + time.strftime(\"%Y-%m-%d_%H%M%S\", time.localtime())\n",
    "tick1 = cv2.getTickCount()"
   ]
  },
  {
   "cell_type": "code",
   "execution_count": 51,
   "metadata": {
    "collapsed": false
   },
   "outputs": [],
   "source": [
    "while ( picNum < picGen):\n",
    "    codeCont = str(codeStart + picNum * 100000000 + picNum * 1000000 + picNum * 10000 + picNum * 100)\n",
    "    ean = barcode.get(codeType, codeCont, writer=ImageWriter())\n",
    "    filename = ean.save('temp')\n",
    "    \n",
    "    img = cv2.imread('temp.png', cv2.IMREAD_GRAYSCALE)\n",
    "    imgCrop = img[5:205, 50:470]\n",
    "    \n",
    "    imgResize = imutils.resize(imgCrop, height = 128)\n",
    "    saveFileName = folderTrain + \"img\" + str(picNum) + '.jpg'\n",
    "    cv2.imwrite(saveFileName, imgResize)\n",
    "    \n",
    "    picNum += 1"
   ]
  },
  {
   "cell_type": "code",
   "execution_count": 52,
   "metadata": {
    "collapsed": false
   },
   "outputs": [
    {
     "name": "stdout",
     "output_type": "stream",
     "text": [
      "25412 ms\n"
     ]
    }
   ],
   "source": [
    "#cv2.imshow(\"cropped\", imgCrop)\n",
    "#cv2.waitKey(0)\n",
    "#cv2.destroyAllWindows()\n",
    "\n",
    "os.remove('temp.png')\n",
    "tick2 = cv2.getTickCount()\n",
    "tick = math.floor( ((tick2 - tick1) * 1000) / cv2.getTickFrequency() )\n",
    "textString = str(tick) + \" ms\"\n",
    "print(textString)"
   ]
  }
 ],
 "metadata": {
  "kernelspec": {
   "display_name": "Python 3",
   "language": "python",
   "name": "python3"
  },
  "language_info": {
   "codemirror_mode": {
    "name": "ipython",
    "version": 3
   },
   "file_extension": ".py",
   "mimetype": "text/x-python",
   "name": "python",
   "nbconvert_exporter": "python",
   "pygments_lexer": "ipython3",
   "version": "3.6.0"
  }
 },
 "nbformat": 4,
 "nbformat_minor": 2
}
