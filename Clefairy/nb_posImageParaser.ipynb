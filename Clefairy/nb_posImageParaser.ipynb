{
 "cells": [
  {
   "cell_type": "code",
   "execution_count": 5,
   "metadata": {
    "collapsed": true
   },
   "outputs": [],
   "source": [
    "%matplotlib inline\n",
    "import cv2\n",
    "import numpy as np\n",
    "from matplotlib import pyplot as plt\n",
    "import imutils\n",
    "from imutils import perspective\n",
    "import math\n",
    "import time\n",
    "import os"
   ]
  },
  {
   "cell_type": "code",
   "execution_count": 6,
   "metadata": {
    "collapsed": true
   },
   "outputs": [],
   "source": [
    "folderDatas = []\n",
    "folderDatas.append(\"../imageTemp/\")\n",
    "\n",
    "folderTrain = \"../imageTrain/pos/\"\n",
    "\n",
    "picNum = 1\n",
    "\n",
    "tick1 = cv2.getTickCount()"
   ]
  },
  {
   "cell_type": "code",
   "execution_count": 7,
   "metadata": {
    "collapsed": false
   },
   "outputs": [],
   "source": [
    "for folderData in folderDatas:\n",
    "    datas = [i[2] for i in os.walk(folderData)]\n",
    "\n",
    "    for data in datas:\n",
    "        for fileName in data:\n",
    "            img = cv2.imread(folderData + str(fileName), cv2.IMREAD_GRAYSCALE)\n",
    "            (w, h) = img.shape\n",
    "            \n",
    "            if w != h:\n",
    "                if w > h:\n",
    "                    img = cv2.copyMakeBorder(img, 0, 0, 0, (w-h), cv2.BORDER_CONSTANT, value=(0, 0, 0))\n",
    "                else:\n",
    "                    img = cv2.copyMakeBorder(img, 0, (h-w), 0, 0, cv2.BORDER_CONSTANT, value=(0, 0, 0))\n",
    "            \n",
    "            imgResize = cv2.resize(img, (128, 128))\n",
    "            saveFileName = folderTrain + \"img\" + str(picNum) + '.jpg'\n",
    "            cv2.imwrite(saveFileName, imgResize)\n",
    "            picNum += 1\n",
    "            #print(folderData + fileName)\n"
   ]
  },
  {
   "cell_type": "code",
   "execution_count": 8,
   "metadata": {
    "collapsed": false
   },
   "outputs": [
    {
     "name": "stdout",
     "output_type": "stream",
     "text": [
      "total pics: 36\n",
      "1445 ms\n"
     ]
    }
   ],
   "source": [
    "picString = \"total pics: \" + str(picNum)\n",
    "print(picString)\n",
    "tick2 = cv2.getTickCount()\n",
    "tick = math.floor( ((tick2 - tick1) * 1000) / cv2.getTickFrequency() )\n",
    "textString = str(tick) + \" ms\"\n",
    "print(textString)"
   ]
  }
 ],
 "metadata": {
  "kernelspec": {
   "display_name": "Python 3",
   "language": "python",
   "name": "python3"
  },
  "language_info": {
   "codemirror_mode": {
    "name": "ipython",
    "version": 3
   },
   "file_extension": ".py",
   "mimetype": "text/x-python",
   "name": "python",
   "nbconvert_exporter": "python",
   "pygments_lexer": "ipython3",
   "version": "3.6.0"
  }
 },
 "nbformat": 4,
 "nbformat_minor": 2
}
