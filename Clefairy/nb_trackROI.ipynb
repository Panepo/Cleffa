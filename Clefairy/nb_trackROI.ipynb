{
 "cells": [
  {
   "cell_type": "code",
   "execution_count": 1,
   "metadata": {
    "collapsed": false
   },
   "outputs": [],
   "source": [
    "%matplotlib inline\n",
    "import cv2\n",
    "import numpy as np\n",
    "from matplotlib import pyplot as plt\n",
    "import imutils\n",
    "from imutils import perspective\n",
    "import math\n",
    "import time"
   ]
  },
  {
   "cell_type": "code",
   "execution_count": 2,
   "metadata": {
    "collapsed": false
   },
   "outputs": [],
   "source": [
    "resW = 1920\n",
    "resH = 1080\n",
    "\n",
    "cap = cv2.VideoCapture(2)\n",
    "cap.set(cv2.CAP_PROP_FRAME_WIDTH, resW)\n",
    "cap.set(cv2.CAP_PROP_FRAME_HEIGHT, resH)\n",
    "\n",
    "tracker = cv2.Tracker_create(\"KCF\")\n",
    "\n",
    "traceStart = 0\n",
    "firstFrame = 0\n",
    "#bbox = (287, 23, 86, 320)"
   ]
  },
  {
   "cell_type": "code",
   "execution_count": 3,
   "metadata": {
    "collapsed": false
   },
   "outputs": [],
   "source": [
    "while(True):\n",
    "    (grabbed, img) = cap.read()\n",
    "    if not grabbed:\n",
    "        break\n",
    "\n",
    "    if traceStart:\n",
    "        ok, bbox = tracker.update(img)\n",
    "\n",
    "        if ok:\n",
    "            p1 = (int(bbox[0]), int(bbox[1]))\n",
    "            p2 = (int(bbox[0] + bbox[2]), int(bbox[1] + bbox[3]))\n",
    "            cv2.rectangle(img, p1, p2, (0,255,0), 3)\n",
    "\n",
    "    cv2.imshow(\"Tracking\", img)\n",
    "    \n",
    "    getKey = cv2.waitKey(20) & 0xFF\n",
    "    if getKey == ord('q'):\n",
    "        break\n",
    "    elif getKey == ord('c'):\n",
    "        bbox = cv2.selectROI(img, False)\n",
    "        ok = tracker.init(img, bbox)\n",
    "        traceStart = 1\n",
    "        cv2.destroyAllWindows()"
   ]
  },
  {
   "cell_type": "code",
   "execution_count": 4,
   "metadata": {
    "collapsed": true
   },
   "outputs": [],
   "source": [
    "cap.release()\n",
    "cv2.destroyAllWindows()"
   ]
  }
 ],
 "metadata": {
  "kernelspec": {
   "display_name": "Python 3",
   "language": "python",
   "name": "python3"
  },
  "language_info": {
   "codemirror_mode": {
    "name": "ipython",
    "version": 3
   },
   "file_extension": ".py",
   "mimetype": "text/x-python",
   "name": "python",
   "nbconvert_exporter": "python",
   "pygments_lexer": "ipython3",
   "version": "3.6.0"
  }
 },
 "nbformat": 4,
 "nbformat_minor": 2
}
