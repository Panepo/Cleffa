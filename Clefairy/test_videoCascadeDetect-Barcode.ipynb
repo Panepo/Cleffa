{
 "cells": [
  {
   "cell_type": "code",
   "execution_count": 1,
   "metadata": {
    "collapsed": true
   },
   "outputs": [],
   "source": [
    "%matplotlib inline\n",
    "import cv2\n",
    "import numpy as np\n",
    "from matplotlib import pyplot as plt\n",
    "\n",
    "from imutils.video import VideoStream\n",
    "from imutils.video import FPS\n",
    "import imutils\n",
    "\n",
    "import math\n",
    "import time"
   ]
  },
  {
   "cell_type": "code",
   "execution_count": 2,
   "metadata": {
    "collapsed": false
   },
   "outputs": [],
   "source": [
    "resW = 1920\n",
    "resH = 1080\n",
    "resOutH = 512\n",
    "\n",
    "cap = cv2.VideoCapture(2)\n",
    "cap.set(cv2.CAP_PROP_FRAME_WIDTH, resW)\n",
    "cap.set(cv2.CAP_PROP_FRAME_HEIGHT, resH)\n",
    "\n",
    "cascade = cv2.CascadeClassifier('./haarcascades/barcode_0.2_2000_10.xml')\n",
    "scale = 1.4\n",
    "neighbors = 10\n",
    "objSize = (20, 20)\n",
    "\n",
    "font = cv2.FONT_HERSHEY_TRIPLEX\n",
    "textString = ''\n",
    "colorFPS = (255,255,0)\n",
    "colorRect = (0, 255, 0)\n",
    "\n",
    "capture = 0\n",
    "trigger = 1"
   ]
  },
  {
   "cell_type": "code",
   "execution_count": 3,
   "metadata": {
    "collapsed": false
   },
   "outputs": [],
   "source": [
    "while(True):\n",
    "    tick1 = cv2.getTickCount()\n",
    "    ret, img = cap.read()\n",
    "    gray = cv2.cvtColor(img, cv2.COLOR_BGR2GRAY)\n",
    "    \n",
    "    xmin = 9999\n",
    "    xmax = 0\n",
    "    ymin = 9999\n",
    "    ymax = 0\n",
    "    \n",
    "    codes = cascade.detectMultiScale(gray, scaleFactor=scale, minNeighbors=neighbors, minSize=objSize)\n",
    "    \n",
    "    if trigger:\n",
    "        codesc = codes\n",
    "        trigger = 0\n",
    "\n",
    "    for (x,y,w,h) in codes:\n",
    "        if x < xmin:\n",
    "            xmin = x\n",
    "        if (x+w) > xmax:\n",
    "            xmax = x+w\n",
    "        if y < ymin:\n",
    "            ymin = y\n",
    "        if (y+h) > ymax:\n",
    "            ymax = y+h\n",
    "      \n",
    "    for (x,y,w,h) in codesc:\n",
    "        if x < xmin:\n",
    "            xmin = x\n",
    "        if (x+w) > xmax:\n",
    "            xmax = x+w\n",
    "        if y < ymin:\n",
    "            ymin = y\n",
    "        if (y+h) > ymax:\n",
    "            ymax = y+h\n",
    "    \n",
    "    img = cv2.rectangle(img, (xmin, ymin), (xmax, ymax), colorRect, 3)\n",
    "    codesc = codes\n",
    "    \n",
    "    \n",
    "    imgOut = img.copy()\n",
    "    tick2 = cv2.getTickCount()\n",
    "    tick = math.floor( ((tick2 - tick1) * 1000) / cv2.getTickFrequency())\n",
    "    imgOut = cv2.copyMakeBorder(imgOut, 0, 80, 0, 0, cv2.BORDER_CONSTANT, value=(0, 0, 0))\n",
    "    textString = str(tick) + \" ms\"\n",
    "    cv2.putText(imgOut, textString, (10, resH+30), font, 1, colorFPS, 2, cv2.LINE_AA)\n",
    "    imgOut = imutils.resize(imgOut, height = resOutH)\n",
    "    cv2.imshow('output',imgOut)\n",
    "    \n",
    "    if capture:\n",
    "        cv2.imshow('capture', img)\n",
    "        fileName = \"../imageCapture/\" + time.strftime(\"%Y-%m-%d_%H%M%S-\", time.localtime()) + '.png'\n",
    "        cv2.imwrite(fileName, img, [int(cv2.IMWRITE_PNG_COMPRESSION), 0])\n",
    "        capture = 0\n",
    "    \n",
    "    getKey = cv2.waitKey(10) & 0xFF\n",
    "    if getKey is ord('c'):\n",
    "        capture = 1\n",
    "    elif getKey is ord('q'):\n",
    "        break"
   ]
  },
  {
   "cell_type": "code",
   "execution_count": 4,
   "metadata": {
    "collapsed": true
   },
   "outputs": [],
   "source": [
    "cap.release()\n",
    "cv2.destroyAllWindows()"
   ]
  }
 ],
 "metadata": {
  "kernelspec": {
   "display_name": "Python 3",
   "language": "python",
   "name": "python3"
  },
  "language_info": {
   "codemirror_mode": {
    "name": "ipython",
    "version": 3
   },
   "file_extension": ".py",
   "mimetype": "text/x-python",
   "name": "python",
   "nbconvert_exporter": "python",
   "pygments_lexer": "ipython3",
   "version": "3.6.0"
  }
 },
 "nbformat": 4,
 "nbformat_minor": 2
}
